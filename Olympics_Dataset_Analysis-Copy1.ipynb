{
 "cells": [
  {
   "cell_type": "markdown",
   "id": "a388243f",
   "metadata": {},
   "source": [
    "# Importing the libraries"
   ]
  },
  {
   "cell_type": "code",
   "execution_count": null,
   "id": "e501bbf0",
   "metadata": {},
   "outputs": [],
   "source": [
    "import numpy as np\n",
    "import pandas as pd\n",
    "import seaborn as sns\n",
    "import matplotlib.pyplot as plt\n",
    "import re"
   ]
  },
  {
   "cell_type": "markdown",
   "id": "f2c0dfae",
   "metadata": {},
   "source": [
    "# Reading the dataset"
   ]
  },
  {
   "cell_type": "code",
   "execution_count": null,
   "id": "2c24af2a",
   "metadata": {},
   "outputs": [],
   "source": [
    "athlete = pd.read_csv('athlete_events.csv')\n",
    "noc = pd.read_csv('noc_regions.csv')"
   ]
  },
  {
   "cell_type": "code",
   "execution_count": null,
   "id": "9c5f1b03",
   "metadata": {},
   "outputs": [],
   "source": [
    "ath = athlete.copy()\n",
    "nat = noc.copy()\n",
    "#creating copies of the dataframe"
   ]
  },
  {
   "cell_type": "markdown",
   "id": "b70eb928",
   "metadata": {},
   "source": [
    "# Data Exploration"
   ]
  },
  {
   "cell_type": "code",
   "execution_count": null,
   "id": "2a34553a",
   "metadata": {
    "scrolled": true
   },
   "outputs": [],
   "source": [
    "ath.head()"
   ]
  },
  {
   "cell_type": "code",
   "execution_count": null,
   "id": "e48e3fd2",
   "metadata": {},
   "outputs": [],
   "source": [
    "ath.tail()"
   ]
  },
  {
   "cell_type": "markdown",
   "id": "bf639bc1",
   "metadata": {},
   "source": [
    "Some Observations: \n",
    "\n",
    "Games column is a wastage of space as we already have Year and Season stating the same.\n",
    "\n",
    "Event column also extra information that is already present in the sport column. Hence Event column can be modified\n",
    "\n",
    "Id 135571 is repeated, but it isnt a duplicate : single player performing more than once.\n",
    "If all the events are same we can consider that data as duplicate."
   ]
  },
  {
   "cell_type": "code",
   "execution_count": null,
   "id": "7f35c5a3",
   "metadata": {},
   "outputs": [],
   "source": [
    "nat.head()"
   ]
  },
  {
   "cell_type": "code",
   "execution_count": null,
   "id": "5614469c",
   "metadata": {},
   "outputs": [],
   "source": [
    "ath.shape"
   ]
  },
  {
   "cell_type": "code",
   "execution_count": null,
   "id": "cb1fa4e7",
   "metadata": {},
   "outputs": [],
   "source": [
    "nat.shape"
   ]
  },
  {
   "cell_type": "code",
   "execution_count": null,
   "id": "0ab2c309",
   "metadata": {
    "scrolled": true
   },
   "outputs": [],
   "source": [
    "ath.info()"
   ]
  },
  {
   "cell_type": "markdown",
   "id": "4087d3d2",
   "metadata": {},
   "source": [
    "Null values : medals, weight, height"
   ]
  },
  {
   "cell_type": "code",
   "execution_count": null,
   "id": "84e1a5d0",
   "metadata": {
    "scrolled": true
   },
   "outputs": [],
   "source": [
    "ath.describe()"
   ]
  },
  {
   "cell_type": "markdown",
   "id": "4bc04053",
   "metadata": {},
   "source": [
    "Modifications can be made with the Age column, Height and weight:\n",
    "\n"
   ]
  },
  {
   "cell_type": "code",
   "execution_count": null,
   "id": "cf479594",
   "metadata": {
    "scrolled": true
   },
   "outputs": [],
   "source": [
    "ath.isnull().sum()"
   ]
  },
  {
   "cell_type": "markdown",
   "id": "ed0604dc",
   "metadata": {},
   "source": [
    "Age, Weight, Height has null values"
   ]
  },
  {
   "cell_type": "code",
   "execution_count": null,
   "id": "1c2dfe16",
   "metadata": {},
   "outputs": [],
   "source": [
    "nat.info()\n"
   ]
  },
  {
   "cell_type": "markdown",
   "id": "57236779",
   "metadata": {},
   "source": [
    "Observation :\n",
    "\n",
    "In both the datsets, The column NOC is common.\n",
    "\n",
    "So we create a new column 'Region' which will map to the noc in the athlete datset"
   ]
  },
  {
   "cell_type": "markdown",
   "id": "a404927a",
   "metadata": {},
   "source": [
    "# Data Cleaning & Manipulation"
   ]
  },
  {
   "cell_type": "markdown",
   "id": "2a5814fd",
   "metadata": {},
   "source": [
    "Adding a new column 'region' to the ath DataFrame, The region should be mapped with the NOC column of nat Dataframe"
   ]
  },
  {
   "cell_type": "code",
   "execution_count": null,
   "id": "b8d49a1b",
   "metadata": {},
   "outputs": [],
   "source": [
    "region_col = ath['NOC'].map(nat.set_index('NOC')['region'])\n",
    "ath.insert(7, 'region', region_col)\n",
    "#inserting the column 'region'"
   ]
  },
  {
   "cell_type": "code",
   "execution_count": null,
   "id": "ec1249e9",
   "metadata": {},
   "outputs": [],
   "source": [
    "ath"
   ]
  },
  {
   "cell_type": "markdown",
   "id": "d49b56a9",
   "metadata": {},
   "source": [
    "Dropping the NOC column"
   ]
  },
  {
   "cell_type": "code",
   "execution_count": null,
   "id": "a3ea0045",
   "metadata": {},
   "outputs": [],
   "source": [
    "ath.drop('NOC', axis = 1, inplace = True)"
   ]
  },
  {
   "cell_type": "code",
   "execution_count": null,
   "id": "489eb1bd",
   "metadata": {},
   "outputs": [],
   "source": [
    "ath"
   ]
  },
  {
   "cell_type": "markdown",
   "id": "716d4068",
   "metadata": {},
   "source": [
    "Dropped the NOC column and replaced it with a region column"
   ]
  },
  {
   "cell_type": "markdown",
   "id": "abad5aed",
   "metadata": {},
   "source": [
    "Handling the NULL VALUES in the columns : \n",
    "\n",
    "AGE\n",
    "\n",
    "WEIGHT\n",
    "\n",
    "HEIGHT\n",
    "\n",
    "(MEAN OF THE COLUMNS)"
   ]
  },
  {
   "cell_type": "code",
   "execution_count": null,
   "id": "62f745c3",
   "metadata": {},
   "outputs": [],
   "source": [
    "ath[ath.Age.isnull()].head()"
   ]
  },
  {
   "cell_type": "code",
   "execution_count": null,
   "id": "3046f2dd",
   "metadata": {},
   "outputs": [],
   "source": [
    "ath['Age'].fillna(ath.Age.mean(), inplace = True)\n",
    "ath['Height'].fillna(ath.Height.mean(), inplace = True)\n",
    "ath['Weight'].fillna(ath.Weight.mean(), inplace = True)"
   ]
  },
  {
   "cell_type": "code",
   "execution_count": null,
   "id": "142bc50b",
   "metadata": {},
   "outputs": [],
   "source": [
    "#checking if the null values are removed\n",
    "ath[ath.Age.isnull()].head()"
   ]
  },
  {
   "cell_type": "markdown",
   "id": "cacf41b3",
   "metadata": {},
   "source": [
    "Observations : \n",
    "\n",
    "No more null values "
   ]
  },
  {
   "cell_type": "code",
   "execution_count": null,
   "id": "6f17acd2",
   "metadata": {},
   "outputs": [],
   "source": [
    "ath.iloc[[147]]\n",
    "#checking the 147 index value that had null values"
   ]
  },
  {
   "cell_type": "code",
   "execution_count": null,
   "id": "5d32caed",
   "metadata": {},
   "outputs": [],
   "source": [
    "ath.isnull().sum()"
   ]
  },
  {
   "cell_type": "markdown",
   "id": "f40fe325",
   "metadata": {},
   "source": [
    "The Height , Weight, Age has been cleared off of null values"
   ]
  },
  {
   "cell_type": "code",
   "execution_count": null,
   "id": "faa70ed4",
   "metadata": {},
   "outputs": [],
   "source": [
    "#listing out all the values of the region columns where the values are null\n",
    "ath[ath.region.isnull()].head()"
   ]
  },
  {
   "cell_type": "code",
   "execution_count": null,
   "id": "9663bfe6",
   "metadata": {},
   "outputs": [],
   "source": [
    "nat.head()"
   ]
  },
  {
   "cell_type": "code",
   "execution_count": null,
   "id": "51423f74",
   "metadata": {},
   "outputs": [],
   "source": [
    "#finding out if the region name singapore exist\n",
    "nat.where(nat['region']=='Singapore')"
   ]
  },
  {
   "cell_type": "code",
   "execution_count": null,
   "id": "a392438e",
   "metadata": {},
   "outputs": [],
   "source": [
    "if 'Singapore' in nat.region:\n",
    "    print(nat.NOC)\n",
    "#no outputs state that there is no such name as Singapore in the region column."
   ]
  },
  {
   "cell_type": "markdown",
   "id": "9524a327",
   "metadata": {},
   "source": [
    "HANDLING THE NULL VALUES IN THE MEDALS COLUMN"
   ]
  },
  {
   "cell_type": "code",
   "execution_count": null,
   "id": "fd675f9e",
   "metadata": {},
   "outputs": [],
   "source": [
    "ath.head()"
   ]
  },
  {
   "cell_type": "code",
   "execution_count": null,
   "id": "7f279be0",
   "metadata": {},
   "outputs": [],
   "source": [
    "ath['Medal'].unique()"
   ]
  },
  {
   "cell_type": "code",
   "execution_count": null,
   "id": "a4fa8a38",
   "metadata": {},
   "outputs": [],
   "source": [
    "ath['Medal'].nunique()"
   ]
  },
  {
   "cell_type": "code",
   "execution_count": null,
   "id": "92c53fea",
   "metadata": {},
   "outputs": [],
   "source": [
    "ath['Medal'].value_counts()"
   ]
  },
  {
   "cell_type": "markdown",
   "id": "6e06f7a0",
   "metadata": {},
   "source": [
    "REPLACING   \n",
    "\n",
    "NAN WITH 0\n",
    "\n",
    "GOLD WITH 1\n",
    "\n",
    "SILVER WITH 2\n",
    "\n",
    "BRONZE WITH 3"
   ]
  },
  {
   "cell_type": "code",
   "execution_count": null,
   "id": "3ca7728c",
   "metadata": {},
   "outputs": [],
   "source": [
    "#NaN cannot be accessed using quotes as it isnt a string\n",
    "ath['Medal'].replace([np.nan,'Gold','Silver', 'Bronze'],[0,1,2,3], inplace = True)"
   ]
  },
  {
   "cell_type": "code",
   "execution_count": null,
   "id": "6b3c67f0",
   "metadata": {},
   "outputs": [],
   "source": [
    "ath.head()"
   ]
  },
  {
   "cell_type": "code",
   "execution_count": null,
   "id": "8d07dbff",
   "metadata": {},
   "outputs": [],
   "source": [
    "ath['Medal'].value_counts()"
   ]
  },
  {
   "cell_type": "code",
   "execution_count": null,
   "id": "ecbbd4e6",
   "metadata": {},
   "outputs": [],
   "source": [
    "ath.info()"
   ]
  },
  {
   "cell_type": "markdown",
   "id": "8f0afd63",
   "metadata": {},
   "source": [
    "If medal was in float format, we have to typecast it to an integer type"
   ]
  },
  {
   "cell_type": "code",
   "execution_count": null,
   "id": "2c296dad",
   "metadata": {},
   "outputs": [],
   "source": [
    "ath.isnull().sum()"
   ]
  },
  {
   "cell_type": "markdown",
   "id": "431a615d",
   "metadata": {},
   "source": [
    "OBSERVATIONS :\n",
    "\n",
    "Apart from regions everything else is not null.\n",
    "\n",
    "Team is also providing us the same information as region so we can drop Region."
   ]
  },
  {
   "cell_type": "code",
   "execution_count": null,
   "id": "8a99d262",
   "metadata": {},
   "outputs": [],
   "source": [
    "ath.head()"
   ]
  },
  {
   "cell_type": "markdown",
   "id": "9fb1fd20",
   "metadata": {},
   "source": [
    "DROPPING COLUMNS :\n",
    "\n",
    "Regions - same data as team\n",
    "\n",
    "Games - same data as year and season"
   ]
  },
  {
   "cell_type": "code",
   "execution_count": null,
   "id": "707a7ed1",
   "metadata": {},
   "outputs": [],
   "source": [
    "ath.drop(['region', 'Games'], axis = 1, inplace = True)"
   ]
  },
  {
   "cell_type": "code",
   "execution_count": null,
   "id": "80afa346",
   "metadata": {},
   "outputs": [],
   "source": [
    "ath"
   ]
  },
  {
   "cell_type": "markdown",
   "id": "34bcac47",
   "metadata": {},
   "source": [
    "REMOVING the unwanted phrases from the 'Event' column"
   ]
  },
  {
   "cell_type": "code",
   "execution_count": null,
   "id": "6ed3506b",
   "metadata": {},
   "outputs": [],
   "source": [
    "ath.head(10)"
   ]
  },
  {
   "cell_type": "code",
   "execution_count": null,
   "id": "129aaf05",
   "metadata": {},
   "outputs": [],
   "source": [
    "#PATTERN : The event starts with the name of the sports which is already present in the sports column\n"
   ]
  },
  {
   "cell_type": "code",
   "execution_count": null,
   "id": "c6faa184",
   "metadata": {},
   "outputs": [],
   "source": [
    "for i ,j in zip (ath.Sport, range(len(ath.Event))):\n",
    "    ath.Event[j] = re.sub(f\"{i}\\s\",\"\",ath.Event[j])\n",
    "#\\s is for space"
   ]
  },
  {
   "cell_type": "code",
   "execution_count": null,
   "id": "fe0d622b",
   "metadata": {},
   "outputs": [],
   "source": [
    "ath.head(10)"
   ]
  },
  {
   "cell_type": "code",
   "execution_count": null,
   "id": "ba23a4e7",
   "metadata": {},
   "outputs": [],
   "source": [
    "ath.info()\n",
    "#Entire data after cleaning the data"
   ]
  },
  {
   "cell_type": "markdown",
   "id": "cdc5df85",
   "metadata": {},
   "source": [
    "Age should be an integer type not float\n",
    "CHANGING THE DATATYPE OF AGE TO INT FROM FLOAT"
   ]
  },
  {
   "cell_type": "code",
   "execution_count": null,
   "id": "489c8b44",
   "metadata": {},
   "outputs": [],
   "source": [
    "ath.Age = ath.Age.astype(int)"
   ]
  },
  {
   "cell_type": "code",
   "execution_count": null,
   "id": "4ecbedcc",
   "metadata": {},
   "outputs": [],
   "source": [
    "ath.info()"
   ]
  },
  {
   "cell_type": "markdown",
   "id": "87e44742",
   "metadata": {},
   "source": [
    "The final data has been cleaned"
   ]
  },
  {
   "cell_type": "markdown",
   "id": "1ffa5a33",
   "metadata": {},
   "source": [
    "# Exporting our cleansed data"
   ]
  },
  {
   "cell_type": "code",
   "execution_count": null,
   "id": "7405d8b0",
   "metadata": {},
   "outputs": [],
   "source": [
    "\n",
    "#ath.to_csv(), ath.to_json(), ath.to_dict()......"
   ]
  },
  {
   "cell_type": "code",
   "execution_count": null,
   "id": "3ddc2239",
   "metadata": {},
   "outputs": [],
   "source": [
    "#exporting to json\n",
    "ath.to_json('athletes_dataset.json')\n",
    "\n",
    "#exporting to Excel\n",
    "ath.to_excel('athletes_dataset.xlsx')\n",
    "\n",
    "#exporting to csv\n",
    "ath.to_csv('athletes_dataset.csv')"
   ]
  },
  {
   "cell_type": "markdown",
   "id": "bd492035",
   "metadata": {},
   "source": [
    "# Data Analysis"
   ]
  },
  {
   "cell_type": "code",
   "execution_count": null,
   "id": "9304c63b",
   "metadata": {},
   "outputs": [],
   "source": [
    "#showing the relationship between height and weight\n",
    "x = ath.Height\n",
    "y = ath.Weight\n",
    "plt.scatter(x,y)\n",
    "plt.title(\"Height V/s Weight\")\n",
    "plt.xlabel(\"Height\")\n",
    "plt.ylabel(\"Weight\")"
   ]
  },
  {
   "cell_type": "markdown",
   "id": "2144f314",
   "metadata": {},
   "source": [
    "CONCLUSION :\n",
    "\n",
    "These variables are directly dependent on each other"
   ]
  },
  {
   "cell_type": "code",
   "execution_count": null,
   "id": "2a85c4f7",
   "metadata": {},
   "outputs": [],
   "source": [
    "#Females and males who participated in the olympics during 1896 to 2016\n",
    "ath[\"Gender\"].value_counts().plot.bar(ath['Gender'])\n",
    "plt.grid()"
   ]
  },
  {
   "cell_type": "code",
   "execution_count": null,
   "id": "fe691bd4",
   "metadata": {},
   "outputs": [],
   "source": [
    "#males and females participated in the summer and winter olympics\n",
    "ath['Gender'].groupby(ath['Season']).value_counts().plot.bar(ath['Gender'])\n",
    "plt.grid()\n",
    "plt.show()"
   ]
  },
  {
   "cell_type": "code",
   "execution_count": null,
   "id": "987fcf9c",
   "metadata": {},
   "outputs": [],
   "source": [
    "import plotly.express as px\n",
    "#provides a more interactive graph"
   ]
  },
  {
   "cell_type": "code",
   "execution_count": null,
   "id": "170e38e9",
   "metadata": {},
   "outputs": [],
   "source": [
    "px.histogram(ath, x = ath.Season, color = ath.Gender, barmode = 'group', color_discrete_map = {\"M\":'pink','F':'deeppink'})"
   ]
  },
  {
   "cell_type": "markdown",
   "id": "74e6c6a3",
   "metadata": {},
   "source": [
    "The top 5 countries with the most medals"
   ]
  },
  {
   "cell_type": "code",
   "execution_count": null,
   "id": "c9b4f3a9",
   "metadata": {},
   "outputs": [],
   "source": [
    "fig = px.histogram(ath.Medal, x = ath.Team)\n",
    "fig.show()"
   ]
  },
  {
   "cell_type": "code",
   "execution_count": null,
   "id": "9659b04c",
   "metadata": {},
   "outputs": [],
   "source": [
    "fig = px.histogram(ath[ath['Gender']=='F']['Gender'], x=ath.Year)"
   ]
  },
  {
   "cell_type": "code",
   "execution_count": null,
   "id": "d9219ff5",
   "metadata": {},
   "outputs": [],
   "source": [
    "fig.show()"
   ]
  }
 ],
 "metadata": {
  "kernelspec": {
   "display_name": "Python 3 (ipykernel)",
   "language": "python",
   "name": "python3"
  },
  "language_info": {
   "codemirror_mode": {
    "name": "ipython",
    "version": 3
   },
   "file_extension": ".py",
   "mimetype": "text/x-python",
   "name": "python",
   "nbconvert_exporter": "python",
   "pygments_lexer": "ipython3",
   "version": "3.10.9"
  }
 },
 "nbformat": 4,
 "nbformat_minor": 5
}
